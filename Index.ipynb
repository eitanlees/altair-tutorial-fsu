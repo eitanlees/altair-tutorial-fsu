{
 "cells": [
  {
   "cell_type": "markdown",
   "metadata": {},
   "source": [
    "# Exploratory Data Visualization with Altair\n",
    "\n",
    "## Materials at https://github.com/eitanlees/altair-tutorial\n",
    "\n",
    "<a href=\"https://altair-viz.github.io/gallery/\"><img src=\"https://raw.githubusercontent.com/eitanlees/altair-tutorial/master/images/altair-gallery.png\" alt='altair gallery'></a>\n",
    "\n",
    "These notebooks contain an introduction to exploratory data analysis with [Altair](http://altair-viz.github.io).\n",
    "\n",
    "To get Altair and its dependencies installed, please follow the [Installation Instructions](https://altair-viz.github.io/getting_started/installation.html) on Altair's website."
   ]
  },
  {
   "cell_type": "markdown",
   "metadata": {},
   "source": [
    "## Outline\n",
    "\n",
    "### 1. Motivating Altair: Live Demo\n",
    "\n",
    "We'll start with a set of intro slides, followed by a live-coded demo of what it looks like to explore data with Altair.\n",
    "\n",
    "Here's the rough content of the live demo:\n",
    "\n",
    "- [01-Cars-Demo.ipynb](01-Cars-Demo.ipynb)\n",
    "\n",
    "This will cover a lot of ground very quickly. Don't worry if you feel a bit shaky on some of the concepts; the goal here is a birds-eye overview, and we'll walk-through important concepts in more detail later.\n",
    "\n",
    "### 2. Simple Charts: Core Concepts\n",
    "\n",
    "Digging into the basic features of an Altair chart\n",
    "\n",
    "- [02-Simple-Charts.ipynb](02-Simple-Charts.ipynb)\n",
    "\n",
    "### 3. Binning and Aggregation\n",
    "\n",
    "Altair lets you build binning and aggregation (i.e. basic data flows) into your chart spec.\n",
    "We'll cover that here.\n",
    "\n",
    "- [03-Binning-and-aggregation.ipynb](03-Binning-and-aggregation.ipynb)\n",
    "\n",
    "   \n",
    "### 4. Exploring a Dataset!\n",
    "\n",
    "Here's a chance for you to try this out on some data!\n",
    "\n",
    "- [04-Exploring.ipynb](04-Exploring.ipynb)\n",
    "   \n",
    "### 5. Selections: making things interactive\n",
    "\n",
    "A killer feature of Altair is the ability to build interactions from basic building blocks.\n",
    "We'll dig into that here.\n",
    "\n",
    "- [05-Selections.ipynb](05-Selections.ipynb)"
   ]
  }
 ],
 "metadata": {
  "kernelspec": {
   "display_name": "Python 3",
   "language": "python",
   "name": "python3"
  },
  "language_info": {
   "codemirror_mode": {
    "name": "ipython",
    "version": 3
   },
   "file_extension": ".py",
   "mimetype": "text/x-python",
   "name": "python",
   "nbconvert_exporter": "python",
   "pygments_lexer": "ipython3",
   "version": "3.6.6"
  }
 },
 "nbformat": 4,
 "nbformat_minor": 2
}
